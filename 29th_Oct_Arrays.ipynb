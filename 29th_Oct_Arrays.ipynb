{
 "cells": [
  {
   "cell_type": "markdown",
   "id": "494308e5-fe41-4b45-a8f2-3d7bb86c2c62",
   "metadata": {},
   "source": [
    " ## Arrays Assignment Questions"
   ]
  },
  {
   "cell_type": "markdown",
   "id": "f66ab9c7-2848-4f84-bd02-2b7c555eaff5",
   "metadata": {},
   "source": [
    "# Q.1. Given an array, check if it contains any duplicates or not.\n",
    "arr = [1, 2, 4, 2, 5, 9]\n",
    "\n",
    "Output = True\n"
   ]
  },
  {
   "cell_type": "code",
   "execution_count": 5,
   "id": "38e6ffd0-c563-45ee-bb49-26f35399262c",
   "metadata": {},
   "outputs": [
    {
     "name": "stdout",
     "output_type": "stream",
     "text": [
      "True\n"
     ]
    }
   ],
   "source": [
    "# Ans: 1\n",
    "\n",
    "# Time complexity of this solution is: O(n) \n",
    "# Space complexity of this solution is: O(n)\n",
    "#funtion defination\n",
    "def contains_duplicates(arr):\n",
    "    seen = set()   # initialize an empty  set to keep track of unique elements\n",
    "        \n",
    "    # iterate through each element in the array\n",
    "    for element in arr:        \n",
    "        if element in seen:  # checking is the element is already in the set         \n",
    "            return True      # if yes, then there is a duplicate, return True\n",
    "\n",
    "       \n",
    "        seen.add(element)    # If the element is not in the set, add it to the set\n",
    "\n",
    "    # if the loop completes without finding duplicates, return False\n",
    "    return False\n",
    "\n",
    "#Driver code\n",
    "arr =  [1, 2, 4, 2, 5, 9]\n",
    "\n",
    "#funtion calling\n",
    "output = contains_duplicates(arr)\n",
    "print(output) "
   ]
  },
  {
   "cell_type": "code",
   "execution_count": null,
   "id": "59141436-7916-4856-b340-ede9cdf13765",
   "metadata": {},
   "outputs": [],
   "source": []
  },
  {
   "cell_type": "markdown",
   "id": "c6573dda-b0f5-4ae7-9af6-cddf19d88fcb",
   "metadata": {},
   "source": [
    "# Q.2. Given an array and an integer k, rotate the array to the right by k steps.\n",
    "arr = [1, 2, 3, 4, 5, 6, 7] k = 3\n",
    "\n",
    "Output = [5, 6, 7, 1, 2, 3, 4]"
   ]
  },
  {
   "cell_type": "code",
   "execution_count": 6,
   "id": "fdee8110-4c2b-461b-b2de-e96d6e39eb24",
   "metadata": {},
   "outputs": [
    {
     "name": "stdout",
     "output_type": "stream",
     "text": [
      "[5, 6, 7, 1, 2, 3, 4]\n"
     ]
    }
   ],
   "source": [
    "# Anss: 2\n",
    "\n",
    "\n",
    "# Time complexity of this solution is: O(n) \n",
    "# Space complexity of this solution is: O(1)\n",
    "\n",
    "#funtion defination\n",
    "def rotate_array(arr, k):\n",
    "    n = len(arr)\n",
    "    \n",
    "    def reverse(start, end):  ## funtion to reverse an array in-place\n",
    "        while start < end:\n",
    "            arr[start], arr[end] = arr[end], arr[start]\n",
    "            start += 1\n",
    "            end -= 1\n",
    "            \n",
    "    # 1: reverse the entire array\n",
    "    reverse(0, n-1)\n",
    "    \n",
    "    #2: reverse the 1st k element\n",
    "    reverse(0, k-1)\n",
    "    \n",
    "    #3: reverse the remainig elements\n",
    "    reverse(k, n-1)\n",
    "    \n",
    "#Driver code \n",
    "arr = [1,2,3,4,5,6,7]\n",
    "k = 3\n",
    "\n",
    "# funtion calling\n",
    "rotate_array(arr, k)\n",
    "print(arr)"
   ]
  },
  {
   "cell_type": "code",
   "execution_count": null,
   "id": "ec08b4f8-2844-4433-96ff-2cafe30db3ec",
   "metadata": {},
   "outputs": [],
   "source": []
  },
  {
   "cell_type": "markdown",
   "id": "eb8a8369-65a1-4d2d-b636-a1da2f021159",
   "metadata": {},
   "source": [
    "# Q.3. Reverse the given array in-place, means without using any extra data structure.\n",
    "arr = [2, 4, 5, 7, 9, 12]\n",
    "\n",
    "Output = [12, 9, 7, 5, 4, 2]"
   ]
  },
  {
   "cell_type": "code",
   "execution_count": 7,
   "id": "80862ff2-f778-4371-9f6d-1841fef4c8f0",
   "metadata": {},
   "outputs": [
    {
     "name": "stdout",
     "output_type": "stream",
     "text": [
      "[12, 9, 7, 5, 4, 2]\n"
     ]
    }
   ],
   "source": [
    "# Ans: 3 \n",
    "\n",
    "# Time complexity of this solution is: O(n) \n",
    "# Space complexity of this solution is: O(1)\n",
    "\n",
    "#funtion defination\n",
    "def reverse_array_in_place(arr):\n",
    "    start = 0\n",
    "    end = len(arr)-1\n",
    "    \n",
    "    while start < end:\n",
    "        arr[start], arr[end] = arr[end], arr[start]  ##swap elements at start and end indices\n",
    "        \n",
    "        # move indices towards the center\n",
    "        start += 1\n",
    "        end -= 1\n",
    "        \n",
    "# driver code\n",
    "arr = [2, 4, 5, 7, 9, 12]\n",
    "\n",
    "#funtion calling\n",
    "reverse_array_in_place(arr)\n",
    "print(arr)"
   ]
  },
  {
   "cell_type": "code",
   "execution_count": null,
   "id": "401ad5e3-4398-4953-bc27-d808756e27e1",
   "metadata": {},
   "outputs": [],
   "source": []
  },
  {
   "cell_type": "markdown",
   "id": "3f303141-a52c-483a-9a6a-a47cbad47148",
   "metadata": {},
   "source": [
    "# Q.4. Given an array of integers, find the maximum element in an array\n",
    "arr = [10, 5, 20, 8, 15]\n",
    "\n",
    "Output = 20"
   ]
  },
  {
   "cell_type": "code",
   "execution_count": 12,
   "id": "e95f47cc-8440-4f92-9ba2-a351cff9559b",
   "metadata": {},
   "outputs": [
    {
     "name": "stdout",
     "output_type": "stream",
     "text": [
      "The maximum element in an array is: 20\n"
     ]
    }
   ],
   "source": [
    "# Ans: 4 \n",
    "\n",
    "\n",
    "# Time complexity of this solution is: O(n) \n",
    "# Space complexity of this solution is: O(1)\n",
    "\n",
    "#funtion defination\n",
    "def find_maximum(arr):\n",
    "    if not arr:    ##check if the array is empty\n",
    "        return None\n",
    "    \n",
    "    max_element = arr[0]   ##intialize the max value with the 1st element\n",
    "    \n",
    "    # iterate through the array starting from the 2nd element\n",
    "    for num in arr[1:]:\n",
    "        if num > max_element:    ## update max-ele. if a larger ele. is found\n",
    "            max_element = num\n",
    "            \n",
    "            \n",
    "    return max_element\n",
    "\n",
    "# Driver code \n",
    "arr = [10, 5, 20, 8, 15]\n",
    "\n",
    "#funtion calling\n",
    "output = find_maximum(arr)\n",
    "print('The maximum element in an array is:',output)"
   ]
  },
  {
   "cell_type": "code",
   "execution_count": null,
   "id": "2840d80f-e48a-4d59-80b9-903e8b3bb5b4",
   "metadata": {},
   "outputs": [],
   "source": []
  },
  {
   "cell_type": "markdown",
   "id": "4ca065d6-9050-41c7-bb44-33ffc1140f83",
   "metadata": {},
   "source": [
    "# Q.5. Given a sorted array, remove the duplicate element without using any extra data structure.\n",
    "arr = [1, 1, 2, 2, 2, 3, 3, 4, 4, 4, 5, 5]\n",
    "\n",
    "Output = [1, 2, 3, 4, 5]"
   ]
  },
  {
   "cell_type": "code",
   "execution_count": 14,
   "id": "340899e4-0a40-4db2-af7c-41e70adf0712",
   "metadata": {},
   "outputs": [
    {
     "name": "stdout",
     "output_type": "stream",
     "text": [
      "[1, 2, 3, 4, 5]\n"
     ]
    }
   ],
   "source": [
    "# Ans: 5 \n",
    "\n",
    "\n",
    "# Time complexity of this solution is: O(n) \n",
    "# Space complexity of this solution is: O(1)\n",
    "\n",
    "#funtion defination\n",
    "def remove_duplicates(arr):\n",
    "    if not arr:      ## check if the array is empty \n",
    "        return []\n",
    "    \n",
    "    # initialize the index to keep track of the position to update in the array\n",
    "    index = 1\n",
    "\n",
    "    # iterate through the array starting from the second element\n",
    "    for i in range(1, len(arr)):        \n",
    "        if arr[i] != arr[i - 1]:  # If the current element is different from the previous one, update the array\n",
    "            arr[index] = arr[i]\n",
    "            index += 1\n",
    "\n",
    "    # truncate the array to remove the duplicates\n",
    "    arr = arr[:index]\n",
    "\n",
    "    return arr\n",
    "\n",
    "#Driver code \n",
    "arr = [1, 1, 2, 2, 2, 3, 3, 4, 4, 4, 5, 5]\n",
    "\n",
    "#funtion calling\n",
    "output = remove_duplicates(arr)\n",
    "print(output)"
   ]
  },
  {
   "cell_type": "code",
   "execution_count": null,
   "id": "70024440-9ae7-4f0a-9f17-03fc138a381c",
   "metadata": {},
   "outputs": [],
   "source": []
  }
 ],
 "metadata": {
  "kernelspec": {
   "display_name": "Python 3 (ipykernel)",
   "language": "python",
   "name": "python3"
  },
  "language_info": {
   "codemirror_mode": {
    "name": "ipython",
    "version": 3
   },
   "file_extension": ".py",
   "mimetype": "text/x-python",
   "name": "python",
   "nbconvert_exporter": "python",
   "pygments_lexer": "ipython3",
   "version": "3.10.8"
  }
 },
 "nbformat": 4,
 "nbformat_minor": 5
}
